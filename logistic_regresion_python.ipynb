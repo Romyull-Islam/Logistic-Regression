{
  "nbformat": 4,
  "nbformat_minor": 0,
  "metadata": {
    "colab": {
      "provenance": [],
      "include_colab_link": true
    },
    "kernelspec": {
      "name": "python3",
      "display_name": "Python 3"
    },
    "language_info": {
      "name": "python"
    }
  },
  "cells": [
    {
      "cell_type": "markdown",
      "metadata": {
        "id": "view-in-github",
        "colab_type": "text"
      },
      "source": [
        "<a href=\"https://colab.research.google.com/github/Romyull-Islam/Logistic-Regression/blob/main/logistic_regresion_python.ipynb\" target=\"_parent\"><img src=\"https://colab.research.google.com/assets/colab-badge.svg\" alt=\"Open In Colab\"/></a>"
      ]
    },
    {
      "cell_type": "code",
      "execution_count": null,
      "metadata": {
        "id": "HRCXkW590xdq"
      },
      "outputs": [],
      "source": [
        "import pandas as pd\n",
        "import numpy as np\n",
        "%matplotlib inline"
      ]
    },
    {
      "cell_type": "code",
      "source": [
        "# Since column headers are not correct, assign corrections to a variable for later use\n",
        "column_headers = [\"age\", \"sex\", \"cp\",\"trestbps\",\"chol\", \"fbs\", \"restecg\",\n",
        "                        \"thalach\", \"exang\", \"oldpeak\", \"slope\", \"ca\", \n",
        "                        \"thal\", \"num\"]"
      ],
      "metadata": {
        "id": "wgvOK4M41nfg"
      },
      "execution_count": null,
      "outputs": []
    },
    {
      "cell_type": "code",
      "source": [
        "data = pd.read_csv('http://archive.ics.uci.edu/ml/machine-learning-databases/heart-disease/processed.cleveland.data',header=None, names=column_headers)\n"
      ],
      "metadata": {
        "id": "Wgw2AYrd1rDM"
      },
      "execution_count": null,
      "outputs": []
    },
    {
      "cell_type": "code",
      "source": [
        "data.shape"
      ],
      "metadata": {
        "colab": {
          "base_uri": "https://localhost:8080/"
        },
        "id": "cr9IKDx-1z8i",
        "outputId": "10c7b3db-bb41-4fd6-d77e-7104bc831c23"
      },
      "execution_count": null,
      "outputs": [
        {
          "output_type": "execute_result",
          "data": {
            "text/plain": [
              "(303, 14)"
            ]
          },
          "metadata": {},
          "execution_count": 4
        }
      ]
    },
    {
      "cell_type": "code",
      "source": [
        "data.head()"
      ],
      "metadata": {
        "colab": {
          "base_uri": "https://localhost:8080/",
          "height": 206
        },
        "id": "oeYEyvbf2QJk",
        "outputId": "3e126fb6-33ac-4bb0-d8ee-c2f1149eba3d"
      },
      "execution_count": null,
      "outputs": [
        {
          "output_type": "execute_result",
          "data": {
            "text/plain": [
              "    age  sex   cp  trestbps   chol  fbs  restecg  thalach  exang  oldpeak  \\\n",
              "0  63.0  1.0  1.0     145.0  233.0  1.0      2.0    150.0    0.0      2.3   \n",
              "1  67.0  1.0  4.0     160.0  286.0  0.0      2.0    108.0    1.0      1.5   \n",
              "2  67.0  1.0  4.0     120.0  229.0  0.0      2.0    129.0    1.0      2.6   \n",
              "3  37.0  1.0  3.0     130.0  250.0  0.0      0.0    187.0    0.0      3.5   \n",
              "4  41.0  0.0  2.0     130.0  204.0  0.0      2.0    172.0    0.0      1.4   \n",
              "\n",
              "   slope   ca thal  num  \n",
              "0    3.0  0.0  6.0    0  \n",
              "1    2.0  3.0  3.0    2  \n",
              "2    2.0  2.0  7.0    1  \n",
              "3    3.0  0.0  3.0    0  \n",
              "4    1.0  0.0  3.0    0  "
            ],
            "text/html": [
              "\n",
              "  <div id=\"df-fc4b6f18-c58d-42de-9eee-ef539fa3da3b\">\n",
              "    <div class=\"colab-df-container\">\n",
              "      <div>\n",
              "<style scoped>\n",
              "    .dataframe tbody tr th:only-of-type {\n",
              "        vertical-align: middle;\n",
              "    }\n",
              "\n",
              "    .dataframe tbody tr th {\n",
              "        vertical-align: top;\n",
              "    }\n",
              "\n",
              "    .dataframe thead th {\n",
              "        text-align: right;\n",
              "    }\n",
              "</style>\n",
              "<table border=\"1\" class=\"dataframe\">\n",
              "  <thead>\n",
              "    <tr style=\"text-align: right;\">\n",
              "      <th></th>\n",
              "      <th>age</th>\n",
              "      <th>sex</th>\n",
              "      <th>cp</th>\n",
              "      <th>trestbps</th>\n",
              "      <th>chol</th>\n",
              "      <th>fbs</th>\n",
              "      <th>restecg</th>\n",
              "      <th>thalach</th>\n",
              "      <th>exang</th>\n",
              "      <th>oldpeak</th>\n",
              "      <th>slope</th>\n",
              "      <th>ca</th>\n",
              "      <th>thal</th>\n",
              "      <th>num</th>\n",
              "    </tr>\n",
              "  </thead>\n",
              "  <tbody>\n",
              "    <tr>\n",
              "      <th>0</th>\n",
              "      <td>63.0</td>\n",
              "      <td>1.0</td>\n",
              "      <td>1.0</td>\n",
              "      <td>145.0</td>\n",
              "      <td>233.0</td>\n",
              "      <td>1.0</td>\n",
              "      <td>2.0</td>\n",
              "      <td>150.0</td>\n",
              "      <td>0.0</td>\n",
              "      <td>2.3</td>\n",
              "      <td>3.0</td>\n",
              "      <td>0.0</td>\n",
              "      <td>6.0</td>\n",
              "      <td>0</td>\n",
              "    </tr>\n",
              "    <tr>\n",
              "      <th>1</th>\n",
              "      <td>67.0</td>\n",
              "      <td>1.0</td>\n",
              "      <td>4.0</td>\n",
              "      <td>160.0</td>\n",
              "      <td>286.0</td>\n",
              "      <td>0.0</td>\n",
              "      <td>2.0</td>\n",
              "      <td>108.0</td>\n",
              "      <td>1.0</td>\n",
              "      <td>1.5</td>\n",
              "      <td>2.0</td>\n",
              "      <td>3.0</td>\n",
              "      <td>3.0</td>\n",
              "      <td>2</td>\n",
              "    </tr>\n",
              "    <tr>\n",
              "      <th>2</th>\n",
              "      <td>67.0</td>\n",
              "      <td>1.0</td>\n",
              "      <td>4.0</td>\n",
              "      <td>120.0</td>\n",
              "      <td>229.0</td>\n",
              "      <td>0.0</td>\n",
              "      <td>2.0</td>\n",
              "      <td>129.0</td>\n",
              "      <td>1.0</td>\n",
              "      <td>2.6</td>\n",
              "      <td>2.0</td>\n",
              "      <td>2.0</td>\n",
              "      <td>7.0</td>\n",
              "      <td>1</td>\n",
              "    </tr>\n",
              "    <tr>\n",
              "      <th>3</th>\n",
              "      <td>37.0</td>\n",
              "      <td>1.0</td>\n",
              "      <td>3.0</td>\n",
              "      <td>130.0</td>\n",
              "      <td>250.0</td>\n",
              "      <td>0.0</td>\n",
              "      <td>0.0</td>\n",
              "      <td>187.0</td>\n",
              "      <td>0.0</td>\n",
              "      <td>3.5</td>\n",
              "      <td>3.0</td>\n",
              "      <td>0.0</td>\n",
              "      <td>3.0</td>\n",
              "      <td>0</td>\n",
              "    </tr>\n",
              "    <tr>\n",
              "      <th>4</th>\n",
              "      <td>41.0</td>\n",
              "      <td>0.0</td>\n",
              "      <td>2.0</td>\n",
              "      <td>130.0</td>\n",
              "      <td>204.0</td>\n",
              "      <td>0.0</td>\n",
              "      <td>2.0</td>\n",
              "      <td>172.0</td>\n",
              "      <td>0.0</td>\n",
              "      <td>1.4</td>\n",
              "      <td>1.0</td>\n",
              "      <td>0.0</td>\n",
              "      <td>3.0</td>\n",
              "      <td>0</td>\n",
              "    </tr>\n",
              "  </tbody>\n",
              "</table>\n",
              "</div>\n",
              "      <button class=\"colab-df-convert\" onclick=\"convertToInteractive('df-fc4b6f18-c58d-42de-9eee-ef539fa3da3b')\"\n",
              "              title=\"Convert this dataframe to an interactive table.\"\n",
              "              style=\"display:none;\">\n",
              "        \n",
              "  <svg xmlns=\"http://www.w3.org/2000/svg\" height=\"24px\"viewBox=\"0 0 24 24\"\n",
              "       width=\"24px\">\n",
              "    <path d=\"M0 0h24v24H0V0z\" fill=\"none\"/>\n",
              "    <path d=\"M18.56 5.44l.94 2.06.94-2.06 2.06-.94-2.06-.94-.94-2.06-.94 2.06-2.06.94zm-11 1L8.5 8.5l.94-2.06 2.06-.94-2.06-.94L8.5 2.5l-.94 2.06-2.06.94zm10 10l.94 2.06.94-2.06 2.06-.94-2.06-.94-.94-2.06-.94 2.06-2.06.94z\"/><path d=\"M17.41 7.96l-1.37-1.37c-.4-.4-.92-.59-1.43-.59-.52 0-1.04.2-1.43.59L10.3 9.45l-7.72 7.72c-.78.78-.78 2.05 0 2.83L4 21.41c.39.39.9.59 1.41.59.51 0 1.02-.2 1.41-.59l7.78-7.78 2.81-2.81c.8-.78.8-2.07 0-2.86zM5.41 20L4 18.59l7.72-7.72 1.47 1.35L5.41 20z\"/>\n",
              "  </svg>\n",
              "      </button>\n",
              "      \n",
              "  <style>\n",
              "    .colab-df-container {\n",
              "      display:flex;\n",
              "      flex-wrap:wrap;\n",
              "      gap: 12px;\n",
              "    }\n",
              "\n",
              "    .colab-df-convert {\n",
              "      background-color: #E8F0FE;\n",
              "      border: none;\n",
              "      border-radius: 50%;\n",
              "      cursor: pointer;\n",
              "      display: none;\n",
              "      fill: #1967D2;\n",
              "      height: 32px;\n",
              "      padding: 0 0 0 0;\n",
              "      width: 32px;\n",
              "    }\n",
              "\n",
              "    .colab-df-convert:hover {\n",
              "      background-color: #E2EBFA;\n",
              "      box-shadow: 0px 1px 2px rgba(60, 64, 67, 0.3), 0px 1px 3px 1px rgba(60, 64, 67, 0.15);\n",
              "      fill: #174EA6;\n",
              "    }\n",
              "\n",
              "    [theme=dark] .colab-df-convert {\n",
              "      background-color: #3B4455;\n",
              "      fill: #D2E3FC;\n",
              "    }\n",
              "\n",
              "    [theme=dark] .colab-df-convert:hover {\n",
              "      background-color: #434B5C;\n",
              "      box-shadow: 0px 1px 3px 1px rgba(0, 0, 0, 0.15);\n",
              "      filter: drop-shadow(0px 1px 2px rgba(0, 0, 0, 0.3));\n",
              "      fill: #FFFFFF;\n",
              "    }\n",
              "  </style>\n",
              "\n",
              "      <script>\n",
              "        const buttonEl =\n",
              "          document.querySelector('#df-fc4b6f18-c58d-42de-9eee-ef539fa3da3b button.colab-df-convert');\n",
              "        buttonEl.style.display =\n",
              "          google.colab.kernel.accessAllowed ? 'block' : 'none';\n",
              "\n",
              "        async function convertToInteractive(key) {\n",
              "          const element = document.querySelector('#df-fc4b6f18-c58d-42de-9eee-ef539fa3da3b');\n",
              "          const dataTable =\n",
              "            await google.colab.kernel.invokeFunction('convertToInteractive',\n",
              "                                                     [key], {});\n",
              "          if (!dataTable) return;\n",
              "\n",
              "          const docLinkHtml = 'Like what you see? Visit the ' +\n",
              "            '<a target=\"_blank\" href=https://colab.research.google.com/notebooks/data_table.ipynb>data table notebook</a>'\n",
              "            + ' to learn more about interactive tables.';\n",
              "          element.innerHTML = '';\n",
              "          dataTable['output_type'] = 'display_data';\n",
              "          await google.colab.output.renderOutput(dataTable, element);\n",
              "          const docLink = document.createElement('div');\n",
              "          docLink.innerHTML = docLinkHtml;\n",
              "          element.appendChild(docLink);\n",
              "        }\n",
              "      </script>\n",
              "    </div>\n",
              "  </div>\n",
              "  "
            ]
          },
          "metadata": {},
          "execution_count": 5
        }
      ]
    },
    {
      "cell_type": "markdown",
      "source": [
        "##Exploratory Data Analysis"
      ],
      "metadata": {
        "id": "NV6BEm_f2VZd"
      }
    },
    {
      "cell_type": "code",
      "source": [
        "vname=data.columns\n",
        "vname"
      ],
      "metadata": {
        "colab": {
          "base_uri": "https://localhost:8080/"
        },
        "id": "2LBAEMGy2W2l",
        "outputId": "0cbb6033-cf5f-4272-9c45-441f821257ce"
      },
      "execution_count": null,
      "outputs": [
        {
          "output_type": "execute_result",
          "data": {
            "text/plain": [
              "Index(['age', 'sex', 'cp', 'trestbps', 'chol', 'fbs', 'restecg', 'thalach',\n",
              "       'exang', 'oldpeak', 'slope', 'ca', 'thal', 'num'],\n",
              "      dtype='object')"
            ]
          },
          "metadata": {},
          "execution_count": 6
        }
      ]
    },
    {
      "cell_type": "code",
      "source": [
        "import numpy as np\n",
        "\n",
        "data.replace((\"?\",\"NA\",\" \"), np.nan, inplace = True)"
      ],
      "metadata": {
        "id": "7-kpOYD79DxE"
      },
      "execution_count": null,
      "outputs": []
    },
    {
      "cell_type": "code",
      "source": [
        "missing = data.isna().sum()\n",
        "missing"
      ],
      "metadata": {
        "colab": {
          "base_uri": "https://localhost:8080/"
        },
        "id": "ATEe9V-74Mwu",
        "outputId": "0d054782-d8c4-4eda-a0e7-be2c66ef14a0"
      },
      "execution_count": null,
      "outputs": [
        {
          "output_type": "execute_result",
          "data": {
            "text/plain": [
              "age         0\n",
              "sex         0\n",
              "cp          0\n",
              "trestbps    0\n",
              "chol        0\n",
              "fbs         0\n",
              "restecg     0\n",
              "thalach     0\n",
              "exang       0\n",
              "oldpeak     0\n",
              "slope       0\n",
              "ca          4\n",
              "thal        2\n",
              "num         0\n",
              "dtype: int64"
            ]
          },
          "metadata": {},
          "execution_count": 8
        }
      ]
    },
    {
      "cell_type": "code",
      "source": [
        "d=data[\"thal\"].isna().sum()\n",
        "d"
      ],
      "metadata": {
        "colab": {
          "base_uri": "https://localhost:8080/"
        },
        "id": "-nUY64yP9b4i",
        "outputId": "b3eab97f-d9e1-4597-faef-e9b095a06444"
      },
      "execution_count": null,
      "outputs": [
        {
          "output_type": "execute_result",
          "data": {
            "text/plain": [
              "2"
            ]
          },
          "metadata": {},
          "execution_count": 9
        }
      ]
    },
    {
      "cell_type": "markdown",
      "source": [
        "##percentage of missing values"
      ],
      "metadata": {
        "id": "C99UINxZCtqN"
      }
    },
    {
      "cell_type": "code",
      "source": [
        "a=0\n",
        "for i in vname:\n",
        "  x= data[i].isna().sum()\n",
        "  if x!=0:\n",
        "    print(i)\n",
        "    print(\"missing proportion \"+ str(x/len(data.index)))\n",
        "\n",
        "  a=a+x\n",
        "\n",
        "print(\"total missing value = \"+ str(a))\n"
      ],
      "metadata": {
        "colab": {
          "base_uri": "https://localhost:8080/"
        },
        "id": "qF76Rn7G6d2N",
        "outputId": "b34f4854-b3ac-4778-f5cd-014c829b5c18"
      },
      "execution_count": null,
      "outputs": [
        {
          "output_type": "stream",
          "name": "stdout",
          "text": [
            "ca\n",
            "missing proportion 0.013201320132013201\n",
            "thal\n",
            "missing proportion 0.006600660066006601\n",
            "total missing value = 6\n"
          ]
        }
      ]
    },
    {
      "cell_type": "markdown",
      "source": [
        "##  Missing values by visualization"
      ],
      "metadata": {
        "id": "hnJzNvqZ7j5q"
      }
    },
    {
      "cell_type": "code",
      "source": [
        "#visualize missing values\n",
        "import missingno as msno\n",
        "msno.matrix(data)"
      ],
      "metadata": {
        "id": "rkuOnMbP7-Y-",
        "colab": {
          "base_uri": "https://localhost:8080/",
          "height": 653
        },
        "outputId": "0e88c992-d9ce-4aea-fac1-d5de13cca0c3"
      },
      "execution_count": null,
      "outputs": [
        {
          "output_type": "execute_result",
          "data": {
            "text/plain": [
              "<Axes: >"
            ]
          },
          "metadata": {},
          "execution_count": 11
        },
        {
          "output_type": "display_data",
          "data": {
            "text/plain": [
              "<Figure size 2500x1000 with 2 Axes>"
            ],
            "image/png": "[encoded data removed]"
          },
          "metadata": {}
        }
      ]
    },
    {
      "cell_type": "markdown",
      "source": [
        "## omitting data"
      ],
      "metadata": {
        "id": "ILiaCNSbQ9nH"
      }
    },
    {
      "cell_type": "code",
      "source": [
        "#Now we can see ca and thal are showing as object variable. So we will change the datatype of the this two variable so that we can impute them as numeric\n",
        "data[\"ca\"] = pd.to_numeric(data[\"ca\"], errors='coerce')\n",
        "data[\"thal\"] = pd.to_numeric(data[\"thal\"], errors='coerce')"
      ],
      "metadata": {
        "id": "py2XS1ZfHAvm"
      },
      "execution_count": null,
      "outputs": []
    },
    {
      "cell_type": "code",
      "source": [
        "data=data.dropna(axis=0)\n",
        "#shape of dataset after deleting the rows contining null values\n",
        "data.shape"
      ],
      "metadata": {
        "colab": {
          "base_uri": "https://localhost:8080/"
        },
        "id": "nNNf4bfYP3Ag",
        "outputId": "6aa8a796-7040-4545-9440-0d4b7428b07b"
      },
      "execution_count": null,
      "outputs": [
        {
          "output_type": "execute_result",
          "data": {
            "text/plain": [
              "(297, 14)"
            ]
          },
          "metadata": {},
          "execution_count": 13
        }
      ]
    },
    {
      "cell_type": "markdown",
      "source": [
        "## Finding the covariance of the datasets"
      ],
      "metadata": {
        "id": "EqEmR_3zDe_p"
      }
    },
    {
      "cell_type": "code",
      "source": [
        "np.cov(data)"
      ],
      "metadata": {
        "colab": {
          "base_uri": "https://localhost:8080/"
        },
        "id": "JtdHS3rzEiKh",
        "outputId": "25aff0cb-2c83-4fa2-97be-0762dc26034c"
      },
      "execution_count": null,
      "outputs": [
        {
          "output_type": "execute_result",
          "data": {
            "text/plain": [
              "array([[5807.42181319, 6347.03653846, 5366.86945055, ..., 5129.88      ,\n",
              "        3893.12241758, 5937.29450549],\n",
              "       [6347.03653846, 7253.56730769, 5938.93846154, ..., 5544.21538462,\n",
              "        4140.37692308, 6393.92307692],\n",
              "       [5366.86945055, 5938.93846154, 5003.51032967, ..., 4712.48307692,\n",
              "        3535.23824176, 5484.53406593],\n",
              "       ...,\n",
              "       [5129.88      , 5544.21538462, 4712.48307692, ..., 4577.19384615,\n",
              "        3521.24307692, 5233.09230769],\n",
              "       [3893.12241758, 4140.37692308, 3535.23824176, ..., 3521.24307692,\n",
              "        2765.13142857, 3956.16703297],\n",
              "       [5937.29450549, 6393.92307692, 5484.53406593, ..., 5233.09230769,\n",
              "        3956.16703297, 6133.8021978 ]])"
            ]
          },
          "metadata": {},
          "execution_count": 14
        }
      ]
    },
    {
      "cell_type": "code",
      "source": [
        "#we can use this condition if 0 then output will be 0 otherwise 1\n",
        "data[\"num\"] = np.where(data[\"num\"] == 0, 0, 1)"
      ],
      "metadata": {
        "id": "ae1R2i9A9njV"
      },
      "execution_count": null,
      "outputs": []
    },
    {
      "cell_type": "markdown",
      "source": [
        "## Data partition"
      ],
      "metadata": {
        "id": "tHEUSD-P_5_E"
      }
    },
    {
      "cell_type": "code",
      "source": [
        "labels=data['num']\n",
        "features = data.drop('num', axis=1)\n",
        "\n",
        "from sklearn.model_selection import train_test_split\n",
        "\n",
        "#for initial testing purpose we are spliting train test from train data\n",
        "\n",
        "X_train, X_test, y_train, y_test = train_test_split(features, labels, test_size=0.33,shuffle=False, random_state=123)"
      ],
      "metadata": {
        "id": "p0ULxS9g_nKo"
      },
      "execution_count": null,
      "outputs": []
    },
    {
      "cell_type": "code",
      "source": [
        "y_train.shape"
      ],
      "metadata": {
        "colab": {
          "base_uri": "https://localhost:8080/"
        },
        "id": "CA7-YfMRFiWT",
        "outputId": "6ad574ea-7f72-475e-e636-b67ffd3815fc"
      },
      "execution_count": null,
      "outputs": [
        {
          "output_type": "execute_result",
          "data": {
            "text/plain": [
              "(198,)"
            ]
          },
          "metadata": {},
          "execution_count": 17
        }
      ]
    },
    {
      "cell_type": "markdown",
      "source": [
        "## Build a Logistic Regression"
      ],
      "metadata": {
        "id": "V329PYd2CISb"
      }
    },
    {
      "cell_type": "code",
      "source": [
        "from sklearn.linear_model import LogisticRegression,LogisticRegressionCV,Lasso\n",
        "\n",
        "from sklearn.model_selection import KFold\n",
        "from sklearn.model_selection import cross_val_score\n",
        "\n",
        "\n",
        "from sklearn.metrics import confusion_matrix,classification_report,cohen_kappa_score,precision_recall_fscore_support\n",
        "from sklearn.metrics import precision_score\n",
        "from sklearn.metrics import recall_score\n",
        "from sklearn.metrics import f1_score\n",
        "from sklearn.metrics import accuracy_score, roc_auc_score\n",
        "from sklearn.metrics import mean_squared_error\n",
        "from sklearn.metrics import roc_curve"
      ],
      "metadata": {
        "id": "eg9YUrL5CFEP"
      },
      "execution_count": null,
      "outputs": []
    },
    {
      "cell_type": "markdown",
      "source": [
        "##Using cross validation to determine the optimal tuning parameter."
      ],
      "metadata": {
        "id": "moBxqt-ndsOL"
      }
    },
    {
      "cell_type": "code",
      "source": [
        "\n",
        "lr = LogisticRegressionCV(penalty='l2',Cs=1000, max_iter=1000, cv=10, solver='liblinear', tol=0.001, multi_class=\"ovr\")\n"
      ],
      "metadata": {
        "id": "2fE7c4rSCT6s"
      },
      "execution_count": null,
      "outputs": []
    },
    {
      "cell_type": "code",
      "source": [
        "ft=lr.fit(X_train, y_train)"
      ],
      "metadata": {
        "id": "EbxOolaMHPya"
      },
      "execution_count": null,
      "outputs": []
    },
    {
      "cell_type": "code",
      "source": [
        "ft.score(X_train, y_train)"
      ],
      "metadata": {
        "colab": {
          "base_uri": "https://localhost:8080/"
        },
        "id": "-05DNtgyzxJe",
        "outputId": "4df695d9-2e10-4a6c-e804-ba7637072319"
      },
      "execution_count": null,
      "outputs": [
        {
          "output_type": "execute_result",
          "data": {
            "text/plain": [
              "0.8686868686868687"
            ]
          },
          "metadata": {},
          "execution_count": 21
        }
      ]
    },
    {
      "cell_type": "code",
      "source": [
        "print(ft.coef_)\n",
        "print(ft.intercept_)\n",
        "print(ft.n_features_in_)\n",
        "print(ft.Cs_)\n",
        "print(ft.l1_ratios_)"
      ],
      "metadata": {
        "colab": {
          "base_uri": "https://localhost:8080/"
        },
        "id": "gL34liRNhlVV",
        "outputId": "60898109-bcd6-465d-9c59-1039c5f5b212"
      },
      "execution_count": null,
      "outputs": [
        {
          "output_type": "stream",
          "name": "stdout",
          "text": [
            "[[-0.0094268   1.64600367  0.93309446  0.03464014  0.00692634 -0.97799502\n",
            "   0.42545347 -0.03038527  0.65466283  0.21342757  0.50331161  0.94136128\n",
            "   0.33955399]]\n",
            "[-9.45299413]\n",
            "13\n",
            "[1.00000000e-04 1.01861017e-04 1.03756668e-04 1.05687597e-04\n",
            " 1.07654461e-04 1.09657929e-04 1.11698682e-04 1.13777413e-04\n",
            " 1.15894830e-04 1.18051653e-04 1.20248614e-04 1.22486461e-04\n",
            " 1.24765955e-04 1.27087871e-04 1.29452998e-04 1.31862140e-04\n",
            " 1.34316117e-04 1.36815763e-04 1.39361927e-04 1.41955477e-04\n",
            " 1.44597292e-04 1.47288272e-04 1.50029332e-04 1.52821404e-04\n",
            " 1.55665436e-04 1.58562396e-04 1.61513269e-04 1.64519059e-04\n",
            " 1.67580786e-04 1.70699493e-04 1.73876240e-04 1.77112106e-04\n",
            " 1.80408193e-04 1.83765620e-04 1.87185529e-04 1.90669084e-04\n",
            " 1.94217468e-04 1.97831888e-04 2.01513573e-04 2.05263775e-04\n",
            " 2.09083769e-04 2.12974854e-04 2.16938352e-04 2.20975611e-04\n",
            " 2.25088005e-04 2.29276931e-04 2.33543814e-04 2.37890104e-04\n",
            " 2.42317279e-04 2.46826845e-04 2.51420335e-04 2.56099310e-04\n",
            " 2.60865362e-04 2.65720111e-04 2.70665207e-04 2.75702333e-04\n",
            " 2.80833200e-04 2.86059554e-04 2.91383170e-04 2.96805861e-04\n",
            " 3.02329468e-04 3.07955871e-04 3.13686982e-04 3.19524751e-04\n",
            " 3.25471161e-04 3.31528234e-04 3.37698031e-04 3.43982649e-04\n",
            " 3.50384225e-04 3.56904935e-04 3.63546996e-04 3.70312668e-04\n",
            " 3.77204249e-04 3.84224085e-04 3.91374560e-04 3.98658107e-04\n",
            " 4.06077203e-04 4.13634368e-04 4.21332174e-04 4.29173238e-04\n",
            " 4.37160225e-04 4.45295851e-04 4.53582883e-04 4.62024137e-04\n",
            " 4.70622485e-04 4.79380850e-04 4.88302209e-04 4.97389596e-04\n",
            " 5.06646101e-04 5.16074871e-04 5.25679112e-04 5.35462090e-04\n",
            " 5.45427131e-04 5.55577622e-04 5.65917016e-04 5.76448828e-04\n",
            " 5.87176639e-04 5.98104096e-04 6.09234915e-04 6.20572881e-04\n",
            " 6.32121848e-04 6.43885743e-04 6.55868566e-04 6.68074392e-04\n",
            " 6.80507370e-04 6.93171728e-04 7.06071771e-04 7.19211887e-04\n",
            " 7.32596543e-04 7.46230289e-04 7.60117762e-04 7.74263683e-04\n",
            " 7.88672862e-04 8.03350198e-04 8.18300682e-04 8.33529397e-04\n",
            " 8.49041520e-04 8.64842328e-04 8.80937190e-04 8.97331581e-04\n",
            " 9.14031075e-04 9.31041349e-04 9.48368187e-04 9.66017480e-04\n",
            " 9.83995230e-04 1.00230755e-03 1.02096066e-03 1.03996091e-03\n",
            " 1.05931476e-03 1.07902879e-03 1.09910970e-03 1.11956432e-03\n",
            " 1.14039960e-03 1.16162263e-03 1.18324063e-03 1.20526094e-03\n",
            " 1.22769105e-03 1.25053859e-03 1.27381132e-03 1.29751717e-03\n",
            " 1.32166418e-03 1.34626058e-03 1.37131472e-03 1.39683512e-03\n",
            " 1.42283046e-03 1.44930957e-03 1.47628147e-03 1.50375532e-03\n",
            " 1.53174046e-03 1.56024641e-03 1.58928287e-03 1.61885969e-03\n",
            " 1.64898694e-03 1.67967487e-03 1.71093391e-03 1.74277468e-03\n",
            " 1.77520801e-03 1.80824493e-03 1.84189668e-03 1.87617469e-03\n",
            " 1.91109062e-03 1.94665634e-03 1.98288395e-03 2.01978576e-03\n",
            " 2.05737431e-03 2.09566240e-03 2.13466303e-03 2.17438948e-03\n",
            " 2.21485523e-03 2.25607407e-03 2.29805999e-03 2.34082728e-03\n",
            " 2.38439047e-03 2.42876438e-03 2.47396410e-03 2.52000499e-03\n",
            " 2.56690272e-03 2.61467321e-03 2.66333273e-03 2.71289780e-03\n",
            " 2.76338529e-03 2.81481236e-03 2.86719650e-03 2.92055551e-03\n",
            " 2.97490755e-03 3.03027108e-03 3.08666494e-03 3.14410830e-03\n",
            " 3.20262069e-03 3.26222201e-03 3.32293252e-03 3.38477286e-03\n",
            " 3.44776405e-03 3.51192753e-03 3.57728510e-03 3.64385898e-03\n",
            " 3.71167182e-03 3.78074666e-03 3.85110700e-03 3.92277676e-03\n",
            " 3.99578030e-03 4.07014245e-03 4.14588850e-03 4.22304419e-03\n",
            " 4.30163576e-03 4.38168993e-03 4.46323393e-03 4.54629547e-03\n",
            " 4.63090280e-03 4.71708469e-03 4.80487044e-03 4.89428990e-03\n",
            " 4.98537346e-03 5.07815211e-03 5.17265739e-03 5.26892142e-03\n",
            " 5.36697695e-03 5.46685730e-03 5.56859644e-03 5.67222897e-03\n",
            " 5.77779012e-03 5.88531578e-03 5.99484250e-03 6.10640754e-03\n",
            " 6.22004883e-03 6.33580499e-03 6.45371540e-03 6.57382014e-03\n",
            " 6.69616005e-03 6.82077673e-03 6.94771255e-03 7.07701066e-03\n",
            " 7.20871503e-03 7.34287045e-03 7.47952252e-03 7.61871770e-03\n",
            " 7.76050334e-03 7.90492762e-03 8.05203967e-03 8.20188950e-03\n",
            " 8.35452806e-03 8.51000725e-03 8.66837993e-03 8.82969996e-03\n",
            " 8.99402217e-03 9.16140246e-03 9.33189772e-03 9.50556592e-03\n",
            " 9.68246612e-03 9.86265846e-03 1.00462042e-02 1.02331658e-02\n",
            " 1.04236067e-02 1.06175918e-02 1.08151870e-02 1.10164595e-02\n",
            " 1.12214777e-02 1.14303113e-02 1.16430313e-02 1.18597101e-02\n",
            " 1.20804213e-02 1.23052400e-02 1.25342427e-02 1.27675070e-02\n",
            " 1.30051125e-02 1.32471399e-02 1.34936714e-02 1.37447909e-02\n",
            " 1.40005838e-02 1.42611371e-02 1.45265393e-02 1.47968806e-02\n",
            " 1.50722531e-02 1.53527503e-02 1.56384676e-02 1.59295021e-02\n",
            " 1.62259529e-02 1.65279206e-02 1.68355080e-02 1.71488197e-02\n",
            " 1.74679622e-02 1.77930439e-02 1.81241755e-02 1.84614695e-02\n",
            " 1.88050406e-02 1.91550056e-02 1.95114835e-02 1.98745955e-02\n",
            " 2.02444651e-02 2.06212180e-02 2.10049824e-02 2.13958887e-02\n",
            " 2.17940698e-02 2.21996612e-02 2.26128007e-02 2.30336287e-02\n",
            " 2.34622885e-02 2.38989257e-02 2.43436887e-02 2.47967289e-02\n",
            " 2.52582003e-02 2.57282597e-02 2.62070670e-02 2.66947849e-02\n",
            " 2.71915794e-02 2.76976194e-02 2.82130768e-02 2.87381269e-02\n",
            " 2.92729484e-02 2.98177229e-02 3.03726358e-02 3.09378757e-02\n",
            " 3.15136348e-02 3.21001090e-02 3.26974974e-02 3.33060034e-02\n",
            " 3.39258338e-02 3.45571994e-02 3.52003147e-02 3.58553986e-02\n",
            " 3.65226736e-02 3.72023668e-02 3.78947092e-02 3.85999362e-02\n",
            " 3.93182876e-02 4.00500076e-02 4.07953450e-02 4.15545533e-02\n",
            " 4.23278907e-02 4.31156199e-02 4.39180089e-02 4.47353305e-02\n",
            " 4.55678627e-02 4.64158883e-02 4.72796959e-02 4.81595791e-02\n",
            " 4.90558371e-02 4.99687745e-02 5.08987019e-02 5.18459354e-02\n",
            " 5.28107971e-02 5.37936150e-02 5.47947234e-02 5.58144625e-02\n",
            " 5.68531791e-02 5.79112265e-02 5.89889643e-02 6.00867589e-02\n",
            " 6.12049837e-02 6.23440189e-02 6.35042517e-02 6.46860766e-02\n",
            " 6.58898955e-02 6.71161177e-02 6.83651600e-02 6.96374473e-02\n",
            " 7.09334120e-02 7.22534949e-02 7.35981448e-02 7.49678187e-02\n",
            " 7.63629826e-02 7.77841107e-02 7.92316862e-02 8.07062014e-02\n",
            " 8.22081576e-02 8.37380654e-02 8.52964450e-02 8.68838264e-02\n",
            " 8.85007491e-02 9.01477631e-02 9.18254284e-02 9.35343152e-02\n",
            " 9.52750047e-02 9.70480888e-02 9.88541702e-02 1.00693863e-01\n",
            " 1.02567793e-01 1.04476597e-01 1.06420924e-01 1.08401436e-01\n",
            " 1.10418805e-01 1.12473718e-01 1.14566873e-01 1.16698982e-01\n",
            " 1.18870770e-01 1.21082975e-01 1.23336350e-01 1.25631660e-01\n",
            " 1.27969687e-01 1.30351224e-01 1.32777083e-01 1.35248087e-01\n",
            " 1.37765077e-01 1.40328908e-01 1.42940453e-01 1.45600600e-01\n",
            " 1.48310251e-01 1.51070330e-01 1.53881775e-01 1.56745541e-01\n",
            " 1.59662602e-01 1.62633950e-01 1.65660596e-01 1.68743568e-01\n",
            " 1.71883914e-01 1.75082703e-01 1.78341022e-01 1.81659979e-01\n",
            " 1.85040702e-01 1.88484341e-01 1.91992067e-01 1.95565072e-01\n",
            " 1.99204571e-01 2.02911802e-01 2.06688025e-01 2.10534524e-01\n",
            " 2.14452608e-01 2.18443607e-01 2.22508880e-01 2.26649808e-01\n",
            " 2.30867799e-01 2.35164288e-01 2.39540736e-01 2.43998630e-01\n",
            " 2.48539486e-01 2.53164848e-01 2.57876289e-01 2.62675410e-01\n",
            " 2.67563844e-01 2.72543253e-01 2.77615329e-01 2.82781798e-01\n",
            " 2.88044415e-01 2.93404971e-01 2.98865287e-01 3.04427221e-01\n",
            " 3.10092664e-01 3.15863541e-01 3.21741815e-01 3.27729485e-01\n",
            " 3.33828586e-01 3.40041193e-01 3.46369418e-01 3.52815412e-01\n",
            " 3.59381366e-01 3.66069515e-01 3.72882131e-01 3.79821531e-01\n",
            " 3.86890074e-01 3.94090164e-01 4.01424249e-01 4.08894823e-01\n",
            " 4.16504425e-01 4.24255643e-01 4.32151113e-01 4.40193519e-01\n",
            " 4.48385595e-01 4.56730127e-01 4.65229952e-01 4.73887961e-01\n",
            " 4.82707097e-01 4.91690358e-01 5.00840799e-01 5.10161531e-01\n",
            " 5.19655724e-01 5.29326606e-01 5.39177464e-01 5.49211648e-01\n",
            " 5.59432571e-01 5.69843706e-01 5.80448594e-01 5.91250841e-01\n",
            " 6.02254120e-01 6.13462172e-01 6.24878807e-01 6.36507908e-01\n",
            " 6.48353429e-01 6.60419396e-01 6.72709914e-01 6.85229160e-01\n",
            " 6.97981391e-01 7.10970943e-01 7.24202233e-01 7.37679760e-01\n",
            " 7.51408106e-01 7.65391939e-01 7.79636013e-01 7.94145172e-01\n",
            " 8.08924349e-01 8.23978568e-01 8.39312950e-01 8.54932707e-01\n",
            " 8.70843150e-01 8.87049689e-01 9.03557835e-01 9.20373200e-01\n",
            " 9.37501502e-01 9.54948564e-01 9.72720319e-01 9.90822810e-01\n",
            " 1.00926219e+00 1.02804473e+00 1.04717682e+00 1.06666496e+00\n",
            " 1.08651577e+00 1.10673602e+00 1.12733256e+00 1.14831241e+00\n",
            " 1.16968270e+00 1.19145070e+00 1.21362380e+00 1.23620954e+00\n",
            " 1.25921561e+00 1.28264983e+00 1.30652016e+00 1.33083472e+00\n",
            " 1.35560179e+00 1.38082977e+00 1.40652724e+00 1.43270295e+00\n",
            " 1.45936580e+00 1.48652484e+00 1.51418933e+00 1.54236865e+00\n",
            " 1.57107239e+00 1.60031031e+00 1.63009236e+00 1.66042866e+00\n",
            " 1.69132952e+00 1.72280545e+00 1.75486715e+00 1.78752553e+00\n",
            " 1.82079168e+00 1.85467692e+00 1.88919278e+00 1.92435098e+00\n",
            " 1.96016347e+00 1.99664245e+00 2.03380031e+00 2.07164968e+00\n",
            " 2.11020343e+00 2.14947467e+00 2.18947676e+00 2.23022330e+00\n",
            " 2.27172813e+00 2.31400538e+00 2.35706941e+00 2.40093488e+00\n",
            " 2.44561668e+00 2.49113003e+00 2.53749038e+00 2.58471351e+00\n",
            " 2.63281547e+00 2.68181261e+00 2.73172160e+00 2.78255940e+00\n",
            " 2.83434331e+00 2.88709092e+00 2.94082017e+00 2.99554933e+00\n",
            " 3.05129702e+00 3.10808217e+00 3.16592411e+00 3.22484250e+00\n",
            " 3.28485737e+00 3.34598912e+00 3.40825855e+00 3.47168682e+00\n",
            " 3.53629550e+00 3.60210656e+00 3.66914238e+00 3.73742574e+00\n",
            " 3.80697987e+00 3.87782841e+00 3.94999546e+00 4.02350555e+00\n",
            " 4.09838367e+00 4.17465529e+00 4.25234633e+00 4.33148322e+00\n",
            " 4.41209286e+00 4.49420266e+00 4.57784054e+00 4.66303493e+00\n",
            " 4.74981480e+00 4.83820966e+00 4.92824957e+00 5.01996513e+00\n",
            " 5.11338754e+00 5.20854855e+00 5.30548053e+00 5.40421642e+00\n",
            " 5.50478981e+00 5.60723488e+00 5.71158648e+00 5.81788007e+00\n",
            " 5.92615181e+00 6.03643851e+00 6.14877765e+00 6.26320745e+00\n",
            " 6.37976681e+00 6.49849535e+00 6.61943346e+00 6.74262224e+00\n",
            " 6.86810359e+00 6.99592017e+00 7.12611543e+00 7.25873365e+00\n",
            " 7.39381992e+00 7.53142017e+00 7.67158118e+00 7.81435061e+00\n",
            " 7.95977700e+00 8.10790981e+00 8.25879939e+00 8.41249705e+00\n",
            " 8.56905505e+00 8.72852662e+00 8.89096599e+00 9.05642838e+00\n",
            " 9.22497005e+00 9.39664831e+00 9.57152154e+00 9.74964918e+00\n",
            " 9.93109181e+00 1.01159111e+01 1.03041699e+01 1.04959323e+01\n",
            " 1.06912634e+01 1.08902296e+01 1.10928986e+01 1.12993394e+01\n",
            " 1.15096220e+01 1.17238180e+01 1.19420003e+01 1.21642429e+01\n",
            " 1.23906216e+01 1.26212131e+01 1.28560961e+01 1.30953502e+01\n",
            " 1.33390569e+01 1.35872990e+01 1.38401610e+01 1.40977287e+01\n",
            " 1.43600898e+01 1.46273336e+01 1.48995507e+01 1.51768339e+01\n",
            " 1.54592774e+01 1.57469771e+01 1.60400311e+01 1.63385388e+01\n",
            " 1.66426018e+01 1.69523234e+01 1.72678090e+01 1.75891659e+01\n",
            " 1.79165033e+01 1.82499324e+01 1.85895668e+01 1.89355218e+01\n",
            " 1.92879151e+01 1.96468665e+01 2.00124980e+01 2.03849340e+01\n",
            " 2.07643011e+01 2.11507282e+01 2.15443469e+01 2.19452909e+01\n",
            " 2.23536965e+01 2.27697026e+01 2.31934506e+01 2.36250847e+01\n",
            " 2.40647515e+01 2.45126006e+01 2.49687843e+01 2.54334576e+01\n",
            " 2.59067786e+01 2.63889081e+01 2.68800102e+01 2.73802518e+01\n",
            " 2.78898029e+01 2.84088369e+01 2.89375302e+01 2.94760626e+01\n",
            " 3.00246171e+01 3.05833803e+01 3.11525422e+01 3.17322963e+01\n",
            " 3.23228398e+01 3.29243733e+01 3.35371015e+01 3.41612327e+01\n",
            " 3.47969790e+01 3.54445567e+01 3.61041860e+01 3.67760910e+01\n",
            " 3.74605003e+01 3.81576466e+01 3.88677669e+01 3.95911027e+01\n",
            " 4.03278998e+01 4.10784089e+01 4.18428851e+01 4.26215883e+01\n",
            " 4.34147833e+01 4.42227398e+01 4.50457325e+01 4.58840413e+01\n",
            " 4.67379511e+01 4.76077523e+01 4.84937407e+01 4.93962174e+01\n",
            " 5.03154895e+01 5.12518693e+01 5.22056753e+01 5.31772318e+01\n",
            " 5.41668691e+01 5.51749238e+01 5.62017385e+01 5.72476624e+01\n",
            " 5.83130511e+01 5.93982669e+01 6.05036788e+01 6.16296626e+01\n",
            " 6.27766011e+01 6.39448843e+01 6.51349095e+01 6.63470812e+01\n",
            " 6.75818117e+01 6.88395207e+01 7.01206359e+01 7.14255929e+01\n",
            " 7.27548353e+01 7.41088152e+01 7.54879928e+01 7.68928372e+01\n",
            " 7.83238260e+01 7.97814457e+01 8.12661920e+01 8.27785697e+01\n",
            " 8.43190929e+01 8.58882856e+01 8.74866812e+01 8.91148232e+01\n",
            " 9.07732653e+01 9.24625712e+01 9.41833153e+01 9.59360829e+01\n",
            " 9.77214697e+01 9.95400829e+01 1.01392541e+02 1.03279473e+02\n",
            " 1.05201522e+02 1.07159340e+02 1.09153594e+02 1.11184960e+02\n",
            " 1.13254132e+02 1.15361810e+02 1.17508713e+02 1.19695570e+02\n",
            " 1.21923125e+02 1.24192135e+02 1.26503372e+02 1.28857621e+02\n",
            " 1.31255684e+02 1.33698374e+02 1.36186524e+02 1.38720978e+02\n",
            " 1.41302599e+02 1.43932264e+02 1.46610868e+02 1.49339322e+02\n",
            " 1.52118552e+02 1.54949504e+02 1.57833141e+02 1.60770442e+02\n",
            " 1.63762407e+02 1.66810054e+02 1.69914417e+02 1.73076553e+02\n",
            " 1.76297538e+02 1.79578465e+02 1.82920450e+02 1.86324631e+02\n",
            " 1.89792164e+02 1.93324229e+02 1.96922026e+02 2.00586778e+02\n",
            " 2.04319732e+02 2.08122157e+02 2.11995346e+02 2.15940615e+02\n",
            " 2.19959307e+02 2.24052787e+02 2.28222447e+02 2.32469706e+02\n",
            " 2.36796007e+02 2.41202821e+02 2.45691646e+02 2.50264010e+02\n",
            " 2.54921465e+02 2.59665597e+02 2.64498018e+02 2.69420371e+02\n",
            " 2.74434330e+02 2.79541600e+02 2.84743917e+02 2.90043049e+02\n",
            " 2.95440800e+02 3.00939003e+02 3.06539530e+02 3.12244282e+02\n",
            " 3.18055202e+02 3.23974263e+02 3.30003479e+02 3.36144900e+02\n",
            " 3.42400614e+02 3.48772747e+02 3.55263468e+02 3.61874981e+02\n",
            " 3.68609536e+02 3.75469422e+02 3.82456972e+02 3.89574562e+02\n",
            " 3.96824610e+02 4.04209584e+02 4.11731993e+02 4.19394396e+02\n",
            " 4.27199397e+02 4.35149650e+02 4.43247859e+02 4.51496777e+02\n",
            " 4.59899209e+02 4.68458012e+02 4.77176095e+02 4.86056423e+02\n",
            " 4.95102016e+02 5.04315949e+02 5.13701354e+02 5.23261424e+02\n",
            " 5.32999408e+02 5.42918618e+02 5.53022426e+02 5.63314267e+02\n",
            " 5.73797641e+02 5.84476113e+02 5.95353313e+02 6.06432940e+02\n",
            " 6.17718760e+02 6.29214611e+02 6.40924402e+02 6.52852114e+02\n",
            " 6.65001803e+02 6.77377600e+02 6.89983712e+02 7.02824426e+02\n",
            " 7.15904109e+02 7.29227206e+02 7.42798248e+02 7.56621850e+02\n",
            " 7.70702711e+02 7.85045620e+02 7.99655453e+02 8.14537177e+02\n",
            " 8.29695852e+02 8.45136633e+02 8.60864770e+02 8.76885609e+02\n",
            " 8.93204600e+02 9.09827289e+02 9.26759330e+02 9.44006479e+02\n",
            " 9.61574600e+02 9.79469667e+02 9.97697764e+02 1.01626509e+03\n",
            " 1.03517796e+03 1.05444279e+03 1.07406615e+03 1.09405471e+03\n",
            " 1.11441525e+03 1.13515471e+03 1.15628013e+03 1.17779870e+03\n",
            " 1.19971774e+03 1.22204469e+03 1.24478715e+03 1.26795285e+03\n",
            " 1.29154967e+03 1.31558562e+03 1.34006890e+03 1.36500781e+03\n",
            " 1.39041083e+03 1.41628662e+03 1.44264395e+03 1.46949180e+03\n",
            " 1.49683929e+03 1.52469573e+03 1.55307057e+03 1.58197348e+03\n",
            " 1.61141428e+03 1.64140297e+03 1.67194976e+03 1.70306503e+03\n",
            " 1.73475936e+03 1.76704353e+03 1.79992851e+03 1.83342548e+03\n",
            " 1.86754584e+03 1.90230119e+03 1.93770334e+03 1.97376433e+03\n",
            " 2.01049642e+03 2.04791210e+03 2.08602409e+03 2.12484535e+03\n",
            " 2.16438909e+03 2.20466874e+03 2.24569800e+03 2.28749082e+03\n",
            " 2.33006141e+03 2.37342425e+03 2.41759408e+03 2.46258592e+03\n",
            " 2.50841506e+03 2.55509709e+03 2.60264788e+03 2.65108360e+03\n",
            " 2.70042072e+03 2.75067601e+03 2.80186656e+03 2.85400977e+03\n",
            " 2.90712338e+03 2.96122544e+03 3.01633435e+03 3.07246884e+03\n",
            " 3.12964801e+03 3.18789129e+03 3.24721849e+03 3.30764978e+03\n",
            " 3.36920571e+03 3.43190720e+03 3.49577557e+03 3.56083255e+03\n",
            " 3.62710025e+03 3.69460121e+03 3.76335836e+03 3.83339510e+03\n",
            " 3.90473524e+03 3.97740302e+03 4.05142317e+03 4.12682085e+03\n",
            " 4.20362168e+03 4.28185180e+03 4.36153779e+03 4.44270675e+03\n",
            " 4.52538628e+03 4.60960449e+03 4.69539001e+03 4.78277202e+03\n",
            " 4.87178022e+03 4.96244488e+03 5.05479682e+03 5.14886745e+03\n",
            " 5.24468875e+03 5.34229330e+03 5.44171429e+03 5.54298552e+03\n",
            " 5.64614142e+03 5.75121707e+03 5.85824820e+03 5.96727120e+03\n",
            " 6.07832313e+03 6.19144176e+03 6.30666554e+03 6.42403366e+03\n",
            " 6.54358602e+03 6.66536327e+03 6.78940681e+03 6.91575883e+03\n",
            " 7.04446228e+03 7.17556092e+03 7.30909933e+03 7.44512291e+03\n",
            " 7.58367791e+03 7.72481145e+03 7.86857151e+03 8.01500696e+03\n",
            " 8.16416760e+03 8.31610415e+03 8.47086827e+03 8.62851257e+03\n",
            " 8.78909065e+03 8.95265713e+03 9.11926760e+03 9.28897872e+03\n",
            " 9.46184819e+03 9.63793480e+03 9.81729841e+03 1.00000000e+04]\n",
            "[None]\n"
          ]
        }
      ]
    },
    {
      "cell_type": "code",
      "source": [
        "#best C\n",
        "c=ft.C_\n",
        "print(c[0])\n",
        "#print(ft.C_)\n"
      ],
      "metadata": {
        "colab": {
          "base_uri": "https://localhost:8080/"
        },
        "id": "bR8c2YES3HwN",
        "outputId": "b4d7693b-4c5e-4845-eedd-a929fb12c51e"
      },
      "execution_count": null,
      "outputs": [
        {
          "output_type": "stream",
          "name": "stdout",
          "text": [
            "2801.866556459195\n"
          ]
        }
      ]
    },
    {
      "cell_type": "markdown",
      "source": [
        "##using best perameters "
      ],
      "metadata": {
        "id": "G_P5_WTxkJUf"
      }
    },
    {
      "cell_type": "code",
      "source": [
        "from sklearn.linear_model import LogisticRegression\n",
        "model = LogisticRegression(penalty='l1', tol=0.0001, C=c[0], intercept_scaling=1, solver='liblinear', max_iter=1000, multi_class='ovr')\n",
        "model.fit(X_train, y_train)"
      ],
      "metadata": {
        "colab": {
          "base_uri": "https://localhost:8080/",
          "height": 92
        },
        "id": "KUuRX8Km4CIF",
        "outputId": "a68f9cef-2f2e-4aaa-d62a-2b3c25853012"
      },
      "execution_count": null,
      "outputs": [
        {
          "output_type": "execute_result",
          "data": {
            "text/plain": [
              "LogisticRegression(C=2801.866556459195, max_iter=1000, multi_class='ovr',\n",
              "                   penalty='l1', solver='liblinear')"
            ],
            "text/html": [
              "<style>#sk-container-id-1 {color: black;background-color: white;}#sk-container-id-1 pre{padding: 0;}#sk-container-id-1 div.sk-toggleable {background-color: white;}#sk-container-id-1 label.sk-toggleable__label {cursor: pointer;display: block;width: 100%;margin-bottom: 0;padding: 0.3em;box-sizing: border-box;text-align: center;}#sk-container-id-1 label.sk-toggleable__label-arrow:before {content: \"▸\";float: left;margin-right: 0.25em;color: #696969;}#sk-container-id-1 label.sk-toggleable__label-arrow:hover:before {color: black;}#sk-container-id-1 div.sk-estimator:hover label.sk-toggleable__label-arrow:before {color: black;}#sk-container-id-1 div.sk-toggleable__content {max-height: 0;max-width: 0;overflow: hidden;text-align: left;background-color: #f0f8ff;}#sk-container-id-1 div.sk-toggleable__content pre {margin: 0.2em;color: black;border-radius: 0.25em;background-color: #f0f8ff;}#sk-container-id-1 input.sk-toggleable__control:checked~div.sk-toggleable__content {max-height: 200px;max-width: 100%;overflow: auto;}#sk-container-id-1 input.sk-toggleable__control:checked~label.sk-toggleable__label-arrow:before {content: \"▾\";}#sk-container-id-1 div.sk-estimator input.sk-toggleable__control:checked~label.sk-toggleable__label {background-color: #d4ebff;}#sk-container-id-1 div.sk-label input.sk-toggleable__control:checked~label.sk-toggleable__label {background-color: #d4ebff;}#sk-container-id-1 input.sk-hidden--visually {border: 0;clip: rect(1px 1px 1px 1px);clip: rect(1px, 1px, 1px, 1px);height: 1px;margin: -1px;overflow: hidden;padding: 0;position: absolute;width: 1px;}#sk-container-id-1 div.sk-estimator {font-family: monospace;background-color: #f0f8ff;border: 1px dotted black;border-radius: 0.25em;box-sizing: border-box;margin-bottom: 0.5em;}#sk-container-id-1 div.sk-estimator:hover {background-color: #d4ebff;}#sk-container-id-1 div.sk-parallel-item::after {content: \"\";width: 100%;border-bottom: 1px solid gray;flex-grow: 1;}#sk-container-id-1 div.sk-label:hover label.sk-toggleable__label {background-color: #d4ebff;}#sk-container-id-1 div.sk-serial::before {content: \"\";position: absolute;border-left: 1px solid gray;box-sizing: border-box;top: 0;bottom: 0;left: 50%;z-index: 0;}#sk-container-id-1 div.sk-serial {display: flex;flex-direction: column;align-items: center;background-color: white;padding-right: 0.2em;padding-left: 0.2em;position: relative;}#sk-container-id-1 div.sk-item {position: relative;z-index: 1;}#sk-container-id-1 div.sk-parallel {display: flex;align-items: stretch;justify-content: center;background-color: white;position: relative;}#sk-container-id-1 div.sk-item::before, #sk-container-id-1 div.sk-parallel-item::before {content: \"\";position: absolute;border-left: 1px solid gray;box-sizing: border-box;top: 0;bottom: 0;left: 50%;z-index: -1;}#sk-container-id-1 div.sk-parallel-item {display: flex;flex-direction: column;z-index: 1;position: relative;background-color: white;}#sk-container-id-1 div.sk-parallel-item:first-child::after {align-self: flex-end;width: 50%;}#sk-container-id-1 div.sk-parallel-item:last-child::after {align-self: flex-start;width: 50%;}#sk-container-id-1 div.sk-parallel-item:only-child::after {width: 0;}#sk-container-id-1 div.sk-dashed-wrapped {border: 1px dashed gray;margin: 0 0.4em 0.5em 0.4em;box-sizing: border-box;padding-bottom: 0.4em;background-color: white;}#sk-container-id-1 div.sk-label label {font-family: monospace;font-weight: bold;display: inline-block;line-height: 1.2em;}#sk-container-id-1 div.sk-label-container {text-align: center;}#sk-container-id-1 div.sk-container {/* jupyter's `normalize.less` sets `[hidden] { display: none; }` but bootstrap.min.css set `[hidden] { display: none !important; }` so we also need the `!important` here to be able to override the default hidden behavior on the sphinx rendered scikit-learn.org. See: https://github.com/scikit-learn/scikit-learn/issues/21755 */display: inline-block !important;position: relative;}#sk-container-id-1 div.sk-text-repr-fallback {display: none;}</style><div id=\"sk-container-id-1\" class=\"sk-top-container\"><div class=\"sk-text-repr-fallback\"><pre>LogisticRegression(C=2801.866556459195, max_iter=1000, multi_class=&#x27;ovr&#x27;,\n",
              "                   penalty=&#x27;l1&#x27;, solver=&#x27;liblinear&#x27;)</pre><b>In a Jupyter environment, please rerun this cell to show the HTML representation or trust the notebook. <br />On GitHub, the HTML representation is unable to render, please try loading this page with nbviewer.org.</b></div><div class=\"sk-container\" hidden><div class=\"sk-item\"><div class=\"sk-estimator sk-toggleable\"><input class=\"sk-toggleable__control sk-hidden--visually\" id=\"sk-estimator-id-1\" type=\"checkbox\" checked><label for=\"sk-estimator-id-1\" class=\"sk-toggleable__label sk-toggleable__label-arrow\">LogisticRegression</label><div class=\"sk-toggleable__content\"><pre>LogisticRegression(C=2801.866556459195, max_iter=1000, multi_class=&#x27;ovr&#x27;,\n",
              "                   penalty=&#x27;l1&#x27;, solver=&#x27;liblinear&#x27;)</pre></div></div></div></div></div>"
            ]
          },
          "metadata": {},
          "execution_count": 24
        }
      ]
    },
    {
      "cell_type": "code",
      "source": [
        "print(ft.coef_)\n",
        "print(ft.intercept_)"
      ],
      "metadata": {
        "colab": {
          "base_uri": "https://localhost:8080/"
        },
        "id": "-j-LCxa2-Veu",
        "outputId": "025bae7e-b67d-491b-ad56-62e79e643f67"
      },
      "execution_count": null,
      "outputs": [
        {
          "output_type": "stream",
          "name": "stdout",
          "text": [
            "[[-0.0094268   1.64600367  0.93309446  0.03464014  0.00692634 -0.97799502\n",
            "   0.42545347 -0.03038527  0.65466283  0.21342757  0.50331161  0.94136128\n",
            "   0.33955399]]\n",
            "[-9.45299413]\n"
          ]
        }
      ]
    },
    {
      "cell_type": "code",
      "source": [
        "prediction = model.predict(X_test)\n",
        "prediction"
      ],
      "metadata": {
        "colab": {
          "base_uri": "https://localhost:8080/"
        },
        "id": "lKVSYTSI3piV",
        "outputId": "c28f0a74-10ef-4db8-b6f4-e03a017f78de"
      },
      "execution_count": null,
      "outputs": [
        {
          "output_type": "execute_result",
          "data": {
            "text/plain": [
              "array([0, 0, 0, 0, 1, 1, 1, 0, 0, 0, 0, 0, 1, 0, 0, 0, 0, 1, 0, 0, 0, 0,\n",
              "       1, 0, 0, 0, 0, 1, 1, 0, 1, 1, 0, 0, 1, 1, 1, 0, 0, 0, 0, 0, 0, 0,\n",
              "       1, 0, 1, 1, 0, 1, 1, 1, 0, 0, 0, 0, 0, 0, 0, 0, 0, 0, 0, 1, 1, 0,\n",
              "       0, 0, 1, 1, 1, 0, 0, 0, 0, 0, 0, 0, 1, 0, 1, 0, 1, 1, 1, 0, 0, 1,\n",
              "       0, 1, 1, 0, 0, 1, 1, 0, 1, 1, 0])"
            ]
          },
          "metadata": {},
          "execution_count": 26
        }
      ]
    },
    {
      "cell_type": "code",
      "source": [
        "model.predict_proba(X_test)"
      ],
      "metadata": {
        "id": "c6Fql7b_SgK2",
        "colab": {
          "base_uri": "https://localhost:8080/"
        },
        "outputId": "36c26e73-bc37-4f85-92f4-16701d95c93e"
      },
      "execution_count": null,
      "outputs": [
        {
          "output_type": "execute_result",
          "data": {
            "text/plain": [
              "array([[5.53588141e-01, 4.46411859e-01],\n",
              "       [8.71295299e-01, 1.28704701e-01],\n",
              "       [8.12023523e-01, 1.87976477e-01],\n",
              "       [7.88499150e-01, 2.11500850e-01],\n",
              "       [2.66087316e-03, 9.97339127e-01],\n",
              "       [5.60335117e-03, 9.94396649e-01],\n",
              "       [4.24009043e-02, 9.57599096e-01],\n",
              "       [9.67944444e-01, 3.20555559e-02],\n",
              "       [7.41725229e-01, 2.58274771e-01],\n",
              "       [9.94676405e-01, 5.32359502e-03],\n",
              "       [9.02123071e-01, 9.78769286e-02],\n",
              "       [7.71984408e-01, 2.28015592e-01],\n",
              "       [1.62006367e-01, 8.37993633e-01],\n",
              "       [8.21002707e-01, 1.78997293e-01],\n",
              "       [9.07493526e-01, 9.25064739e-02],\n",
              "       [9.99042235e-01, 9.57764580e-04],\n",
              "       [6.93001263e-01, 3.06998737e-01],\n",
              "       [2.93386914e-01, 7.06613086e-01],\n",
              "       [7.31813332e-01, 2.68186668e-01],\n",
              "       [9.74727794e-01, 2.52722060e-02],\n",
              "       [9.88196120e-01, 1.18038800e-02],\n",
              "       [9.98606107e-01, 1.39389311e-03],\n",
              "       [6.11823795e-03, 9.93881762e-01],\n",
              "       [7.03130276e-01, 2.96869724e-01],\n",
              "       [9.98855966e-01, 1.14403447e-03],\n",
              "       [8.94243058e-01, 1.05756942e-01],\n",
              "       [9.45511257e-01, 5.44887434e-02],\n",
              "       [1.43140180e-01, 8.56859820e-01],\n",
              "       [3.43730794e-01, 6.56269206e-01],\n",
              "       [9.67696046e-01, 3.23039541e-02],\n",
              "       [6.70247920e-02, 9.32975208e-01],\n",
              "       [2.60117731e-01, 7.39882269e-01],\n",
              "       [8.87198179e-01, 1.12801821e-01],\n",
              "       [9.42462773e-01, 5.75372270e-02],\n",
              "       [1.38434767e-02, 9.86156523e-01],\n",
              "       [2.98166910e-02, 9.70183309e-01],\n",
              "       [3.00280316e-01, 6.99719684e-01],\n",
              "       [9.89806977e-01, 1.01930226e-02],\n",
              "       [9.75015884e-01, 2.49841162e-02],\n",
              "       [9.85458270e-01, 1.45417301e-02],\n",
              "       [9.94179828e-01, 5.82017184e-03],\n",
              "       [9.65972004e-01, 3.40279955e-02],\n",
              "       [7.63066279e-01, 2.36933721e-01],\n",
              "       [9.89800414e-01, 1.01995860e-02],\n",
              "       [2.52945243e-01, 7.47054757e-01],\n",
              "       [6.17670582e-01, 3.82329418e-01],\n",
              "       [9.30835227e-02, 9.06916477e-01],\n",
              "       [2.45010187e-01, 7.54989813e-01],\n",
              "       [9.75249000e-01, 2.47510000e-02],\n",
              "       [3.18085865e-01, 6.81914135e-01],\n",
              "       [2.88959942e-02, 9.71104006e-01],\n",
              "       [3.10883061e-02, 9.68911694e-01],\n",
              "       [9.65896964e-01, 3.41030360e-02],\n",
              "       [8.26525907e-01, 1.73474093e-01],\n",
              "       [9.92192075e-01, 7.80792504e-03],\n",
              "       [8.91218613e-01, 1.08781387e-01],\n",
              "       [8.88585917e-01, 1.11414083e-01],\n",
              "       [8.09171833e-01, 1.90828167e-01],\n",
              "       [8.61796061e-01, 1.38203939e-01],\n",
              "       [9.52035578e-01, 4.79644216e-02],\n",
              "       [9.39028545e-01, 6.09714553e-02],\n",
              "       [9.97113912e-01, 2.88608777e-03],\n",
              "       [9.67742795e-01, 3.22572051e-02],\n",
              "       [5.62415896e-02, 9.43758410e-01],\n",
              "       [6.07590571e-02, 9.39240943e-01],\n",
              "       [5.92303707e-01, 4.07696293e-01],\n",
              "       [5.56439980e-01, 4.43560020e-01],\n",
              "       [9.43874632e-01, 5.61253678e-02],\n",
              "       [3.70438991e-02, 9.62956101e-01],\n",
              "       [9.67733492e-02, 9.03226651e-01],\n",
              "       [5.40201941e-03, 9.94597981e-01],\n",
              "       [9.54073678e-01, 4.59263220e-02],\n",
              "       [9.43090899e-01, 5.69091007e-02],\n",
              "       [5.79602498e-01, 4.20397502e-01],\n",
              "       [7.48220749e-01, 2.51779251e-01],\n",
              "       [9.70345138e-01, 2.96548624e-02],\n",
              "       [7.67012646e-01, 2.32987354e-01],\n",
              "       [9.12270494e-01, 8.77295057e-02],\n",
              "       [5.23969502e-02, 9.47603050e-01],\n",
              "       [9.58176196e-01, 4.18238041e-02],\n",
              "       [1.92799627e-01, 8.07200373e-01],\n",
              "       [9.90563185e-01, 9.43681533e-03],\n",
              "       [2.92113790e-01, 7.07886210e-01],\n",
              "       [5.74169626e-03, 9.94258304e-01],\n",
              "       [5.52783916e-02, 9.44721608e-01],\n",
              "       [8.48524018e-01, 1.51475982e-01],\n",
              "       [9.63018207e-01, 3.69817927e-02],\n",
              "       [2.61971884e-01, 7.38028116e-01],\n",
              "       [9.89454959e-01, 1.05450415e-02],\n",
              "       [2.16369037e-01, 7.83630963e-01],\n",
              "       [1.27138608e-02, 9.87286139e-01],\n",
              "       [8.97734529e-01, 1.02265471e-01],\n",
              "       [9.94747024e-01, 5.25297591e-03],\n",
              "       [1.10490214e-02, 9.88950979e-01],\n",
              "       [3.68011547e-01, 6.31988453e-01],\n",
              "       [9.04248431e-01, 9.57515691e-02],\n",
              "       [8.31193908e-02, 9.16880609e-01],\n",
              "       [7.46400119e-02, 9.25359988e-01],\n",
              "       [9.72001919e-01, 2.79980812e-02]])"
            ]
          },
          "metadata": {},
          "execution_count": 27
        }
      ]
    },
    {
      "cell_type": "markdown",
      "source": [
        "#Confusion metrics"
      ],
      "metadata": {
        "id": "1GzCy3X5Tmfi"
      }
    },
    {
      "cell_type": "code",
      "source": [
        "confusion_matrix(y_test, prediction)"
      ],
      "metadata": {
        "colab": {
          "base_uri": "https://localhost:8080/"
        },
        "id": "S8AdYrHvTpQP",
        "outputId": "9d01153c-634c-4e95-d62b-5b10a4c737b5"
      },
      "execution_count": null,
      "outputs": [
        {
          "output_type": "execute_result",
          "data": {
            "text/plain": [
              "array([[48,  4],\n",
              "       [15, 32]])"
            ]
          },
          "metadata": {},
          "execution_count": 28
        }
      ]
    },
    {
      "cell_type": "code",
      "source": [
        "#Accuracy\n",
        "print(accuracy_score(y_test, prediction).round(2))\n",
        "# Precision\n",
        "print(precision_score(y_test, prediction).round(2))\n",
        "# Recall\n",
        "print(recall_score(y_test, prediction).round(2))\n",
        "# F1 Score\n",
        "print(f1_score(y_test, prediction).round(2))"
      ],
      "metadata": {
        "colab": {
          "base_uri": "https://localhost:8080/"
        },
        "id": "yO7A1OcNvLqC",
        "outputId": "1a3784e0-ef77-4370-aa63-16b0292b091f"
      },
      "execution_count": null,
      "outputs": [
        {
          "output_type": "stream",
          "name": "stdout",
          "text": [
            "0.81\n",
            "0.89\n",
            "0.68\n",
            "0.77\n"
          ]
        }
      ]
    },
    {
      "cell_type": "code",
      "source": [
        "#or we can use this to get Accuracy,  precision ,   recall,  f1-score\n",
        "print(classification_report(y_test, prediction))"
      ],
      "metadata": {
        "colab": {
          "base_uri": "https://localhost:8080/"
        },
        "id": "W9UOKMBkve7s",
        "outputId": "6ce20c86-7487-442d-e950-b89e55d41b41"
      },
      "execution_count": null,
      "outputs": [
        {
          "output_type": "stream",
          "name": "stdout",
          "text": [
            "              precision    recall  f1-score   support\n",
            "\n",
            "           0       0.76      0.92      0.83        52\n",
            "           1       0.89      0.68      0.77        47\n",
            "\n",
            "    accuracy                           0.81        99\n",
            "   macro avg       0.83      0.80      0.80        99\n",
            "weighted avg       0.82      0.81      0.80        99\n",
            "\n"
          ]
        }
      ]
    },
    {
      "cell_type": "markdown",
      "source": [
        "##Cohen Kappa\n"
      ],
      "metadata": {
        "id": "9G5Hqf9nhAt_"
      }
    },
    {
      "cell_type": "code",
      "source": [
        "print(cohen_kappa_score(y_test, prediction))"
      ],
      "metadata": {
        "colab": {
          "base_uri": "https://localhost:8080/"
        },
        "id": "tNcwQ2OchELU",
        "outputId": "c2340642-4b14-4346-a956-7815fec8009d"
      },
      "execution_count": null,
      "outputs": [
        {
          "output_type": "stream",
          "name": "stdout",
          "text": [
            "0.6108007448789572\n"
          ]
        }
      ]
    },
    {
      "cell_type": "markdown",
      "source": [
        "## Finidng MSE"
      ],
      "metadata": {
        "id": "QS04_2Zv5Nnv"
      }
    },
    {
      "cell_type": "code",
      "source": [
        "# Mean Squared Error\n",
        "mean_squared_error(y_test,prediction)"
      ],
      "metadata": {
        "colab": {
          "base_uri": "https://localhost:8080/"
        },
        "id": "g5QhA_1B5CrR",
        "outputId": "0e94893f-5975-462f-c225-cb4c55fe96c2"
      },
      "execution_count": null,
      "outputs": [
        {
          "output_type": "execute_result",
          "data": {
            "text/plain": [
              "0.1919191919191919"
            ]
          },
          "metadata": {},
          "execution_count": 32
        }
      ]
    },
    {
      "cell_type": "markdown",
      "source": [
        "## Finding missclassification rate"
      ],
      "metadata": {
        "id": "5wj_TOb35hs_"
      }
    },
    {
      "cell_type": "code",
      "source": [
        "(1-accuracy_score(y_test, prediction)).round(2)"
      ],
      "metadata": {
        "colab": {
          "base_uri": "https://localhost:8080/"
        },
        "id": "wVkldXFX5dl5",
        "outputId": "82f66c06-fa23-467e-f796-63e0d40ebb0b"
      },
      "execution_count": null,
      "outputs": [
        {
          "output_type": "execute_result",
          "data": {
            "text/plain": [
              "0.19"
            ]
          },
          "metadata": {},
          "execution_count": 33
        }
      ]
    },
    {
      "cell_type": "markdown",
      "source": [
        "##roc curve"
      ],
      "metadata": {
        "id": "4UOojiLz4zPx"
      }
    },
    {
      "cell_type": "code",
      "source": [
        "from sklearn.metrics import roc_auc_score\n",
        "from sklearn.metrics import roc_curve,precision_recall_curve\n",
        "import matplotlib.pyplot as plt\n",
        "\n",
        "print(\"area under ROC \" + str(roc_auc_score(y_test, prediction).round(2)))\n",
        "\n",
        "logit_roc_auc = roc_auc_score(y_test, prediction)\n",
        "fpr, tpr, thresholds = roc_curve(y_test, prediction)\n",
        "plt.figure()\n",
        "plt.plot(fpr, tpr, label='Logistic Regression (area = %0.2f)' % logit_roc_auc)\n",
        "plt.plot([0, 1], [0, 1],'r--')\n",
        "plt.xlim([0.0, 1.0])\n",
        "plt.ylim([0.0, 1.05])\n",
        "plt.xlabel('False Positive Rate')\n",
        "plt.ylabel('True Positive Rate')\n",
        "plt.title('Receiver operating characteristic')\n",
        "plt.legend(loc=\"lower right\")\n",
        "plt.savefig('Log_ROC')\n",
        "plt.show()"
      ],
      "metadata": {
        "colab": {
          "base_uri": "https://localhost:8080/",
          "height": 489
        },
        "id": "IoCxtJRu1ZqH",
        "outputId": "47c21af2-1cbd-4658-9b6f-47ee63599eec"
      },
      "execution_count": null,
      "outputs": [
        {
          "output_type": "stream",
          "name": "stdout",
          "text": [
            "area under ROC 0.8\n"
          ]
        },
        {
          "output_type": "display_data",
          "data": {
            "text/plain": [
              "<Figure size 640x480 with 1 Axes>"
            ],
            "image/png": "[encoded data removed]"
          },
          "metadata": {}
        }
      ]
    },
    {
      "cell_type": "code",
      "source": [
        "precision, recall, thresholds = precision_recall_curve(y_test, prediction)\n",
        "from sklearn.metrics import auc\n",
        "auc_precision_recall = auc(precision, recall)\n",
        "print(auc_precision_recall)\n",
        "plt.plot(precision, recall, label='Logistic Regression  precision recall (area = %0.2f)' % auc_precision_recall)\n",
        "plt.plot([0, 1], [0, 1],'r--')\n",
        "plt.legend(loc=\"lower right\")\n",
        "plt.xlabel('precision')\n",
        "plt.ylabel('Recall')\n",
        "plt.legend(loc=\"lower left\")\n",
        "plt.show()"
      ],
      "metadata": {
        "colab": {
          "base_uri": "https://localhost:8080/",
          "height": 466
        },
        "id": "sZ7PiIvgSMd0",
        "outputId": "7ef8a72d-4c15-4f6c-a5c1-1935a2522d66"
      },
      "execution_count": null,
      "outputs": [
        {
          "output_type": "stream",
          "name": "stdout",
          "text": [
            "0.385880077369439\n"
          ]
        },
        {
          "output_type": "display_data",
          "data": {
            "text/plain": [
              "<Figure size 640x480 with 1 Axes>"
            ],
            "image/png": "[encoded data removed]"
          },
          "metadata": {}
        }
      ]
    },
    {
      "cell_type": "code",
      "source": [
        "from sklearn.metrics import PrecisionRecallDisplay\n",
        "\n",
        "display = PrecisionRecallDisplay.from_estimator(\n",
        "    model, X_test, y_test, name=\"Logistic regression\"\n",
        ")\n",
        "_ = display.ax_.set_title(\"2-class Precision-Recall curve\")"
      ],
      "metadata": {
        "colab": {
          "base_uri": "https://localhost:8080/",
          "height": 472
        },
        "id": "bNxh10qWzx79",
        "outputId": "4760d279-a8f6-4c21-8e69-f1abe189adba"
      },
      "execution_count": null,
      "outputs": [
        {
          "output_type": "display_data",
          "data": {
            "text/plain": [
              "<Figure size 640x480 with 1 Axes>"
            ],
            "image/png": "[encoded data removed]"
          },
          "metadata": {}
        }
      ]
    },
    {
      "cell_type": "code",
      "source": [],
      "metadata": {
        "id": "zaL0wAIn18wc"
      },
      "execution_count": null,
      "outputs": []
    }
  ]
}